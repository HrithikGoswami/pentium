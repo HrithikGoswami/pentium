{
  "nbformat": 4,
  "nbformat_minor": 0,
  "metadata": {
    "colab": {
      "name": "Classify_Images.ipynb",
      "provenance": [],
      "authorship_tag": "ABX9TyOF9fklJgJlGOAtuWbDC+PO",
      "include_colab_link": true
    },
    "kernelspec": {
      "name": "python3",
      "display_name": "Python 3"
    }
  },
  "cells": [
    {
      "cell_type": "markdown",
      "metadata": {
        "id": "view-in-github",
        "colab_type": "text"
      },
      "source": [
        "<a href=\"https://colab.research.google.com/github/HrithikGoswami/pentium/blob/master/Classify_Images.ipynb\" target=\"_parent\"><img src=\"https://colab.research.google.com/assets/colab-badge.svg\" alt=\"Open In Colab\"/></a>"
      ]
    },
    {
      "cell_type": "code",
      "metadata": {
        "id": "mtX1UdQRceh5",
        "colab_type": "code",
        "colab": {}
      },
      "source": [
        "# This program classifies images"
      ],
      "execution_count": 0,
      "outputs": []
    },
    {
      "cell_type": "code",
      "metadata": {
        "id": "GQsbIpuvcsH7",
        "colab_type": "code",
        "colab": {
          "base_uri": "https://localhost:8080/",
          "height": 114
        },
        "outputId": "27e8b868-5dcc-466c-d8b2-cc0c90c78b17"
      },
      "source": [
        "#Load the data\n",
        "from keras.datasets import cifar10\n",
        "(x_train, y_train), (x_test, y_test) = cifar10.load_data()"
      ],
      "execution_count": 2,
      "outputs": [
        {
          "output_type": "stream",
          "text": [
            "Using TensorFlow backend.\n"
          ],
          "name": "stderr"
        },
        {
          "output_type": "display_data",
          "data": {
            "text/html": [
              "<p style=\"color: red;\">\n",
              "The default version of TensorFlow in Colab will soon switch to TensorFlow 2.x.<br>\n",
              "We recommend you <a href=\"https://www.tensorflow.org/guide/migrate\" target=\"_blank\">upgrade</a> now \n",
              "or ensure your notebook will continue to use TensorFlow 1.x via the <code>%tensorflow_version 1.x</code> magic:\n",
              "<a href=\"https://colab.research.google.com/notebooks/tensorflow_version.ipynb\" target=\"_blank\">more info</a>.</p>\n"
            ],
            "text/plain": [
              "<IPython.core.display.HTML object>"
            ]
          },
          "metadata": {
            "tags": []
          }
        },
        {
          "output_type": "stream",
          "text": [
            "Downloading data from https://www.cs.toronto.edu/~kriz/cifar-10-python.tar.gz\n",
            "170500096/170498071 [==============================] - 3s 0us/step\n"
          ],
          "name": "stdout"
        }
      ]
    },
    {
      "cell_type": "code",
      "metadata": {
        "id": "W6UUPsimdfKk",
        "colab_type": "code",
        "colab": {
          "base_uri": "https://localhost:8080/",
          "height": 85
        },
        "outputId": "a0660f4f-f03b-4a04-db92-0d8776391d65"
      },
      "source": [
        "#Print the data type of x_train\n",
        "print(type(x_train))\n",
        "#Print the data type of y_train\n",
        "print(type(y_train))\n",
        "#Print the data type of x_test\n",
        "print(type(x_test))\n",
        "#Print the data type of y_test\n",
        "print(type(y_test))"
      ],
      "execution_count": 3,
      "outputs": [
        {
          "output_type": "stream",
          "text": [
            "<class 'numpy.ndarray'>\n",
            "<class 'numpy.ndarray'>\n",
            "<class 'numpy.ndarray'>\n",
            "<class 'numpy.ndarray'>\n"
          ],
          "name": "stdout"
        }
      ]
    },
    {
      "cell_type": "code",
      "metadata": {
        "id": "yEEqk67cdkk-",
        "colab_type": "code",
        "colab": {
          "base_uri": "https://localhost:8080/",
          "height": 85
        },
        "outputId": "51af470a-eaca-4006-bc46-92692f62ddf7"
      },
      "source": [
        "#Get the shape of x_train\n",
        "print('x_train shape:', x_train.shape) #4D array 50,000 rows 32x32 pixel image with depth = 3 visible wave lenghts (RGB)\n",
        "#Get the shape of y_train\n",
        "print('y_train shape:', y_train.shape) #2D array 50,000 rows and 1 column\n",
        "#Get the shape of x_train\n",
        "print('x_test shape:', x_test.shape) #4D array 10,000 rows 32x32 pixel image with depth = 3 visible wave lenghts (RGB)\n",
        "#Get the shape of y_train\n",
        "print('y_test shape:', y_test.shape) #2D array 10,000 rows and 1 column"
      ],
      "execution_count": 4,
      "outputs": [
        {
          "output_type": "stream",
          "text": [
            "x_train shape: (50000, 32, 32, 3)\n",
            "y_train shape: (50000, 1)\n",
            "x_test shape: (10000, 32, 32, 3)\n",
            "y_test shape: (10000, 1)\n"
          ],
          "name": "stdout"
        }
      ]
    },
    {
      "cell_type": "code",
      "metadata": {
        "id": "eVLiYRKmdmjj",
        "colab_type": "code",
        "colab": {
          "base_uri": "https://localhost:8080/",
          "height": 850
        },
        "outputId": "639bfb17-40da-4b56-9cd2-909ac1b0c7f0"
      },
      "source": [
        "#Take a look at the first image (at index=0) in the training data set as a numpy array\n",
        "#This shows the image as a series of pixel values\n",
        "x_train[0]"
      ],
      "execution_count": 5,
      "outputs": [
        {
          "output_type": "execute_result",
          "data": {
            "text/plain": [
              "array([[[ 59,  62,  63],\n",
              "        [ 43,  46,  45],\n",
              "        [ 50,  48,  43],\n",
              "        ...,\n",
              "        [158, 132, 108],\n",
              "        [152, 125, 102],\n",
              "        [148, 124, 103]],\n",
              "\n",
              "       [[ 16,  20,  20],\n",
              "        [  0,   0,   0],\n",
              "        [ 18,   8,   0],\n",
              "        ...,\n",
              "        [123,  88,  55],\n",
              "        [119,  83,  50],\n",
              "        [122,  87,  57]],\n",
              "\n",
              "       [[ 25,  24,  21],\n",
              "        [ 16,   7,   0],\n",
              "        [ 49,  27,   8],\n",
              "        ...,\n",
              "        [118,  84,  50],\n",
              "        [120,  84,  50],\n",
              "        [109,  73,  42]],\n",
              "\n",
              "       ...,\n",
              "\n",
              "       [[208, 170,  96],\n",
              "        [201, 153,  34],\n",
              "        [198, 161,  26],\n",
              "        ...,\n",
              "        [160, 133,  70],\n",
              "        [ 56,  31,   7],\n",
              "        [ 53,  34,  20]],\n",
              "\n",
              "       [[180, 139,  96],\n",
              "        [173, 123,  42],\n",
              "        [186, 144,  30],\n",
              "        ...,\n",
              "        [184, 148,  94],\n",
              "        [ 97,  62,  34],\n",
              "        [ 83,  53,  34]],\n",
              "\n",
              "       [[177, 144, 116],\n",
              "        [168, 129,  94],\n",
              "        [179, 142,  87],\n",
              "        ...,\n",
              "        [216, 184, 140],\n",
              "        [151, 118,  84],\n",
              "        [123,  92,  72]]], dtype=uint8)"
            ]
          },
          "metadata": {
            "tags": []
          },
          "execution_count": 5
        }
      ]
    },
    {
      "cell_type": "code",
      "metadata": {
        "id": "41OZAYzudtvu",
        "colab_type": "code",
        "colab": {
          "base_uri": "https://localhost:8080/",
          "height": 266
        },
        "outputId": "b3669d6e-87a1-4fdc-b70c-5b1b68243a47"
      },
      "source": [
        "#Show the image as an image instead of a series of pixel values using matplotlib\n",
        "import matplotlib.pyplot as plt\n",
        "img = plt.imshow(x_train[0])"
      ],
      "execution_count": 6,
      "outputs": [
        {
          "output_type": "display_data",
          "data": {
            "image/png": "[encoded data removed]",
            "text/plain": [
              "<Figure size 432x288 with 1 Axes>"
            ]
          },
          "metadata": {
            "tags": []
          }
        }
      ]
    },
    {
      "cell_type": "code",
      "metadata": {
        "id": "sfGQuQDqdzfq",
        "colab_type": "code",
        "colab": {
          "base_uri": "https://localhost:8080/",
          "height": 34
        },
        "outputId": "e7e9a020-c74c-4ba8-a49e-3162da6cb34a"
      },
      "source": [
        "#Print the label of the image, NOTE: the number 6 = frog\n",
        "#0 = airplane\n",
        "#1 = automobile\n",
        "#2 = bird\n",
        "#3 = cat\n",
        "#4 = deer\n",
        "#5 = dog\n",
        "#6 = frog\n",
        "#7 = horse\n",
        "#8 = ship\n",
        "#9 = truck\n",
        "print('The label is:', y_train[0])"
      ],
      "execution_count": 7,
      "outputs": [
        {
          "output_type": "stream",
          "text": [
            "The label is: [6]\n"
          ],
          "name": "stdout"
        }
      ]
    },
    {
      "cell_type": "code",
      "metadata": {
        "id": "s8-lFE6nd3aH",
        "colab_type": "code",
        "colab": {}
      },
      "source": [
        "#One-Hot Encoding \n",
        "#Convert the labels into a set of 10 numbers to input into the neural network\n",
        "from keras.utils import to_categorical\n",
        "y_train_one_hot = to_categorical(y_train)\n",
        "y_test_one_hot = to_categorical(y_test)"
      ],
      "execution_count": 0,
      "outputs": []
    },
    {
      "cell_type": "code",
      "metadata": {
        "id": "2scc3SMxd7D7",
        "colab_type": "code",
        "colab": {
          "base_uri": "https://localhost:8080/",
          "height": 136
        },
        "outputId": "66b7c99c-b02a-468a-cb4d-56b8fce34063"
      },
      "source": [
        "#Print all of the new labels in the training data set\n",
        "print(y_train_one_hot)"
      ],
      "execution_count": 9,
      "outputs": [
        {
          "output_type": "stream",
          "text": [
            "[[0. 0. 0. ... 0. 0. 0.]\n",
            " [0. 0. 0. ... 0. 0. 1.]\n",
            " [0. 0. 0. ... 0. 0. 1.]\n",
            " ...\n",
            " [0. 0. 0. ... 0. 0. 1.]\n",
            " [0. 1. 0. ... 0. 0. 0.]\n",
            " [0. 1. 0. ... 0. 0. 0.]]\n"
          ],
          "name": "stdout"
        }
      ]
    },
    {
      "cell_type": "code",
      "metadata": {
        "id": "sFp4gOsvd_IW",
        "colab_type": "code",
        "colab": {
          "base_uri": "https://localhost:8080/",
          "height": 34
        },
        "outputId": "3413482f-d68b-4731-b2ab-0eaace9b7bb1"
      },
      "source": [
        "#Print an example of the new labels, NOTE: The label 6 = [0,0,0,0,0,0,1,0,0,0]\n",
        "print('The one hot label is:', y_train_one_hot[0])"
      ],
      "execution_count": 10,
      "outputs": [
        {
          "output_type": "stream",
          "text": [
            "The one hot label is: [0. 0. 0. 0. 0. 0. 1. 0. 0. 0.]\n"
          ],
          "name": "stdout"
        }
      ]
    },
    {
      "cell_type": "code",
      "metadata": {
        "id": "xcFmpsrSeDQo",
        "colab_type": "code",
        "colab": {}
      },
      "source": [
        "#normalize the pixels in the images to be a value between 0 and 1 , they are normally values between 0 and 255\n",
        "#doing this will help the neural network.\n",
        "x_train = x_train / 255\n",
        "x_test = x_test / 255"
      ],
      "execution_count": 0,
      "outputs": []
    },
    {
      "cell_type": "code",
      "metadata": {
        "id": "GXmyrtUaeHIb",
        "colab_type": "code",
        "colab": {}
      },
      "source": [
        "#Build The CNN\n",
        "from keras.models import Sequential\n",
        "from keras.layers import Dense, Flatten, Conv2D, MaxPooling2D\n",
        "\n",
        "model = Sequential() #Create the architecture\n",
        "\n",
        "#Convolution layer to extract features from the input image, and create 32 ReLu\n",
        "#5x5 convolved features/layers aka feature map.\n",
        "#Note:You must input the input shape only in this first layer.\n",
        "# number of output channels or convolution filters = 32\n",
        "# number of rows in the convolution kernel\n",
        "# number of cols in the convolution kernel\n",
        "# input shape 32x32 RGB image, so spacially it's 3-Dimensional\n",
        "# activation function Rectifier Linear Unit aka (ReLu)\n",
        "model.add(Conv2D(32, (5, 5), activation='relu', input_shape=(32,32,3))) \n",
        "\n",
        "#Pooling layer with a 2x2 filter to get the max element from the convolved features , \n",
        "#this reduces the dimensionality by half e.g. 16x16, aka sub sampling\n",
        "#Note: the default for stride is the pool_size\n",
        "model.add(MaxPooling2D(pool_size=(2, 2)))\n",
        "\n",
        "#2nd Convolution layer with 64 channels\n",
        "model.add(Conv2D(64, (5, 5), activation='relu'))\n",
        "\n",
        "#Adding second Max Pooling layer\n",
        "model.add(MaxPooling2D(pool_size=(2, 2)))\n",
        "\n",
        "#Flattening, Flattens the input. Does not affect the batch size. \n",
        "#(Flattening occurs when you reduce all layers to one background layer), \n",
        "#this makes the image a linear array or 1D Array or 1D Vector to \n",
        "#feed into or connect with the neural network\n",
        "model.add(Flatten())\n",
        "model.add(Dense(1000, activation='relu')) # a layer with 1000 neurons and activation function ReLu\n",
        "model.add(Dense(10, activation='softmax')) #a layer with 10 output neurons for each label using softmax activation function"
      ],
      "execution_count": 0,
      "outputs": []
    },
    {
      "cell_type": "code",
      "metadata": {
        "id": "W8uRr2gieyXh",
        "colab_type": "code",
        "colab": {
          "base_uri": "https://localhost:8080/",
          "height": 105
        },
        "outputId": "dbadab92-3b92-4031-819a-8586f37ea8b0"
      },
      "source": [
        "model.compile(loss='categorical_crossentropy', # loss function used for classes that are greater than 2)\n",
        "              optimizer='adam',\n",
        "              metrics=['accuracy'])"
      ],
      "execution_count": 15,
      "outputs": [
        {
          "output_type": "stream",
          "text": [
            "WARNING:tensorflow:From /usr/local/lib/python3.6/dist-packages/keras/optimizers.py:793: The name tf.train.Optimizer is deprecated. Please use tf.compat.v1.train.Optimizer instead.\n",
            "\n",
            "WARNING:tensorflow:From /usr/local/lib/python3.6/dist-packages/keras/backend/tensorflow_backend.py:3576: The name tf.log is deprecated. Please use tf.math.log instead.\n",
            "\n"
          ],
          "name": "stdout"
        }
      ]
    },
    {
      "cell_type": "code",
      "metadata": {
        "id": "hNrJwOgDe4Wh",
        "colab_type": "code",
        "colab": {
          "base_uri": "https://localhost:8080/",
          "height": 717
        },
        "outputId": "d36b3b32-73f5-40ee-d86d-259b1476e5ee"
      },
      "source": [
        "#Batch: Total number of training examples present in a single batch\n",
        "#Epoch:The number of iterations when an ENTIRE dataset is passed forward and \n",
        "#      backward through the neural network only ONCE.\n",
        "#Fit: Another word for train\n",
        "#We don't need to use validation_data, so we didn't have to split the data \n",
        "#into a validation sets. We just put in 0.2 and this splits the data 20% for us.\n",
        "hist = model.fit(x_train, y_train_one_hot, \n",
        "           batch_size=256, epochs=10, validation_split=0.3 )"
      ],
      "execution_count": 16,
      "outputs": [
        {
          "output_type": "stream",
          "text": [
            "WARNING:tensorflow:From /usr/local/lib/python3.6/dist-packages/tensorflow_core/python/ops/math_grad.py:1424: where (from tensorflow.python.ops.array_ops) is deprecated and will be removed in a future version.\n",
            "Instructions for updating:\n",
            "Use tf.where in 2.0, which has the same broadcast rule as np.where\n",
            "WARNING:tensorflow:From /usr/local/lib/python3.6/dist-packages/keras/backend/tensorflow_backend.py:1033: The name tf.assign_add is deprecated. Please use tf.compat.v1.assign_add instead.\n",
            "\n",
            "WARNING:tensorflow:From /usr/local/lib/python3.6/dist-packages/keras/backend/tensorflow_backend.py:1020: The name tf.assign is deprecated. Please use tf.compat.v1.assign instead.\n",
            "\n",
            "WARNING:tensorflow:From /usr/local/lib/python3.6/dist-packages/keras/backend/tensorflow_backend.py:3005: The name tf.Session is deprecated. Please use tf.compat.v1.Session instead.\n",
            "\n",
            "Train on 35000 samples, validate on 15000 samples\n",
            "Epoch 1/10\n",
            "WARNING:tensorflow:From /usr/local/lib/python3.6/dist-packages/keras/backend/tensorflow_backend.py:190: The name tf.get_default_session is deprecated. Please use tf.compat.v1.get_default_session instead.\n",
            "\n",
            "WARNING:tensorflow:From /usr/local/lib/python3.6/dist-packages/keras/backend/tensorflow_backend.py:197: The name tf.ConfigProto is deprecated. Please use tf.compat.v1.ConfigProto instead.\n",
            "\n",
            "WARNING:tensorflow:From /usr/local/lib/python3.6/dist-packages/keras/backend/tensorflow_backend.py:207: The name tf.global_variables is deprecated. Please use tf.compat.v1.global_variables instead.\n",
            "\n",
            "WARNING:tensorflow:From /usr/local/lib/python3.6/dist-packages/keras/backend/tensorflow_backend.py:216: The name tf.is_variable_initialized is deprecated. Please use tf.compat.v1.is_variable_initialized instead.\n",
            "\n",
            "WARNING:tensorflow:From /usr/local/lib/python3.6/dist-packages/keras/backend/tensorflow_backend.py:223: The name tf.variables_initializer is deprecated. Please use tf.compat.v1.variables_initializer instead.\n",
            "\n",
            "35000/35000 [==============================] - 76s 2ms/step - loss: 1.6845 - acc: 0.3890 - val_loss: 1.4758 - val_acc: 0.4747\n",
            "Epoch 2/10\n",
            "35000/35000 [==============================] - 75s 2ms/step - loss: 1.3273 - acc: 0.5249 - val_loss: 1.3076 - val_acc: 0.5315\n",
            "Epoch 3/10\n",
            "35000/35000 [==============================] - 73s 2ms/step - loss: 1.1879 - acc: 0.5788 - val_loss: 1.1986 - val_acc: 0.5834\n",
            "Epoch 4/10\n",
            "35000/35000 [==============================] - 73s 2ms/step - loss: 1.0723 - acc: 0.6227 - val_loss: 1.1247 - val_acc: 0.6046\n",
            "Epoch 5/10\n",
            "35000/35000 [==============================] - 73s 2ms/step - loss: 0.9945 - acc: 0.6481 - val_loss: 1.1889 - val_acc: 0.5972\n",
            "Epoch 6/10\n",
            "35000/35000 [==============================] - 73s 2ms/step - loss: 0.9101 - acc: 0.6840 - val_loss: 1.0531 - val_acc: 0.6324\n",
            "Epoch 7/10\n",
            "35000/35000 [==============================] - 73s 2ms/step - loss: 0.8304 - acc: 0.7116 - val_loss: 1.0064 - val_acc: 0.6556\n",
            "Epoch 8/10\n",
            "35000/35000 [==============================] - 73s 2ms/step - loss: 0.7539 - acc: 0.7368 - val_loss: 1.0037 - val_acc: 0.6564\n",
            "Epoch 9/10\n",
            "35000/35000 [==============================] - 74s 2ms/step - loss: 0.6853 - acc: 0.7649 - val_loss: 0.9964 - val_acc: 0.6670\n",
            "Epoch 10/10\n",
            "35000/35000 [==============================] - 74s 2ms/step - loss: 0.5960 - acc: 0.7956 - val_loss: 1.0092 - val_acc: 0.6674\n"
          ],
          "name": "stdout"
        }
      ]
    },
    {
      "cell_type": "code",
      "metadata": {
        "id": "xTF3rqDvh_yL",
        "colab_type": "code",
        "colab": {
          "base_uri": "https://localhost:8080/",
          "height": 51
        },
        "outputId": "0acf3cb4-4583-4d30-9f04-fa351a5a7bac"
      },
      "source": [
        "#Get the models accuracy\n",
        "model.evaluate(x_test, y_test_one_hot)[1]\n",
        "#test_loss, test_acc = model.evaluate(test_images, test_labels)"
      ],
      "execution_count": 17,
      "outputs": [
        {
          "output_type": "stream",
          "text": [
            "10000/10000 [==============================] - 6s 616us/step\n"
          ],
          "name": "stdout"
        },
        {
          "output_type": "execute_result",
          "data": {
            "text/plain": [
              "0.6598"
            ]
          },
          "metadata": {
            "tags": []
          },
          "execution_count": 17
        }
      ]
    },
    {
      "cell_type": "code",
      "metadata": {
        "id": "7UwBsX5MiHdn",
        "colab_type": "code",
        "colab": {
          "base_uri": "https://localhost:8080/",
          "height": 295
        },
        "outputId": "48eb2829-9f22-4c66-af2e-dd86ac28c664"
      },
      "source": [
        "#Visualize the models accuracy\n",
        "plt.plot(hist.history['acc'])\n",
        "plt.plot(hist.history['val_acc'])\n",
        "plt.title('Model accuracy')\n",
        "plt.ylabel('Accuracy')\n",
        "plt.xlabel('Epoch')\n",
        "plt.legend(['Train', 'Val'], loc='upper left')\n",
        "plt.show()"
      ],
      "execution_count": 18,
      "outputs": [
        {
          "output_type": "display_data",
          "data": {
            "image/png": "[encoded data removed]",
            "text/plain": [
              "<Figure size 432x288 with 1 Axes>"
            ]
          },
          "metadata": {
            "tags": []
          }
        }
      ]
    },
    {
      "cell_type": "code",
      "metadata": {
        "id": "c9z1s9gsiLL6",
        "colab_type": "code",
        "colab": {
          "base_uri": "https://localhost:8080/",
          "height": 295
        },
        "outputId": "e49903fa-9e64-46cf-f416-335b86f6e1de"
      },
      "source": [
        "#Visualize the models loss\n",
        "plt.plot(hist.history['loss'])\n",
        "plt.plot(hist.history['val_loss'])\n",
        "plt.title('Model loss')\n",
        "plt.ylabel('Loss')\n",
        "plt.xlabel('Epoch')\n",
        "plt.legend(['Train', 'Val'], loc='upper right')\n",
        "plt.show()"
      ],
      "execution_count": 24,
      "outputs": [
        {
          "output_type": "display_data",
          "data": {
            "image/png": "[encoded data removed]",
            "text/plain": [
              "<Figure size 432x288 with 1 Axes>"
            ]
          },
          "metadata": {
            "tags": []
          }
        }
      ]
    },
    {
      "cell_type": "code",
      "metadata": {
        "id": "3AaknOk-iQao",
        "colab_type": "code",
        "colab": {}
      },
      "source": [
        "#Load the data\n",
        "#from google.colab import files # Use to load data on Google Colab\n",
        "#uploaded = files.upload() # Use to load data on Google Colab\n",
        "my_image = plt.imread(\"dog.212.jpg\") #Read in the image (3, 14, 20)"
      ],
      "execution_count": 0,
      "outputs": []
    },
    {
      "cell_type": "code",
      "metadata": {
        "id": "m-NtTIg8kPhm",
        "colab_type": "code",
        "colab": {
          "base_uri": "https://localhost:8080/",
          "height": 269
        },
        "outputId": "b0694ef0-d191-45ce-faca-60cc38e2b884"
      },
      "source": [
        "#Show the uploaded image\n",
        "img = plt.imshow(my_image)"
      ],
      "execution_count": 28,
      "outputs": [
        {
          "output_type": "display_data",
          "data": {
            "image/png": "[encoded data removed]",
            "text/plain": [
              "<Figure size 432x288 with 1 Axes>"
            ]
          },
          "metadata": {
            "tags": []
          }
        }
      ]
    },
    {
      "cell_type": "code",
      "metadata": {
        "id": "jh_TpwUfkZCD",
        "colab_type": "code",
        "colab": {
          "base_uri": "https://localhost:8080/",
          "height": 266
        },
        "outputId": "af54cc69-6d65-4c73-f5b1-932c0f5be135"
      },
      "source": [
        "#Resize & Show the image\n",
        "from skimage.transform import resize\n",
        "my_image_resized = resize(my_image, (32,32,3)) #resize the image to 32x32 pixel with depth = 3\n",
        "img = plt.imshow(my_image_resized) #show new image"
      ],
      "execution_count": 29,
      "outputs": [
        {
          "output_type": "display_data",
          "data": {
            "image/png": "[encoded data removed]",
            "text/plain": [
              "<Figure size 432x288 with 1 Axes>"
            ]
          },
          "metadata": {
            "tags": []
          }
        }
      ]
    },
    {
      "cell_type": "code",
      "metadata": {
        "id": "BU_u1LMmkbGo",
        "colab_type": "code",
        "colab": {}
      },
      "source": [
        "#Get the probabilities for each class\n",
        "#model.predict function is expecting an array, so we will use np.array to make this transformation on the image\n",
        "import numpy as np\n",
        "probabilities = model.predict(np.array( [my_image_resized,] ))"
      ],
      "execution_count": 0,
      "outputs": []
    },
    {
      "cell_type": "code",
      "metadata": {
        "id": "7Qug9Cm2ki8U",
        "colab_type": "code",
        "colab": {
          "base_uri": "https://localhost:8080/",
          "height": 68
        },
        "outputId": "6a56ad7c-5962-4aa2-b7fc-a0acd2636aef"
      },
      "source": [
        "#Show the probability for each class\n",
        "probabilities"
      ],
      "execution_count": 31,
      "outputs": [
        {
          "output_type": "execute_result",
          "data": {
            "text/plain": [
              "array([[1.93687573e-01, 1.52522750e-06, 1.16917536e-01, 1.34905681e-01,\n",
              "        4.59813699e-03, 5.06075919e-01, 8.09136685e-03, 3.36979739e-02,\n",
              "        5.56506449e-04, 1.46778708e-03]], dtype=float32)"
            ]
          },
          "metadata": {
            "tags": []
          },
          "execution_count": 31
        }
      ]
    },
    {
      "cell_type": "code",
      "metadata": {
        "id": "q0hIYzg3kmcx",
        "colab_type": "code",
        "colab": {
          "base_uri": "https://localhost:8080/",
          "height": 102
        },
        "outputId": "dbaf2c5e-87dd-4e44-88d1-6ecfa65cb41f"
      },
      "source": [
        "number_to_class = ['airplane', 'automobile', 'bird', 'cat', 'deer', 'dog', 'frog', 'horse', 'ship', 'truck']\n",
        "index = np.argsort(probabilities[0,:])\n",
        "print(\"Most likely class:\", number_to_class[index[9]], \"-- Probability:\", probabilities[0,index[9]])\n",
        "print(\"Second most likely class:\", number_to_class[index[8]], \"-- Probability:\", probabilities[0,index[8]])\n",
        "print(\"Third most likely class:\", number_to_class[index[7]], \"-- Probability:\", probabilities[0,index[7]])\n",
        "print(\"Fourth most likely class:\", number_to_class[index[6]], \"-- Probability:\", probabilities[0,index[6]])\n",
        "print(\"Fifth most likely class:\", number_to_class[index[5]], \"-- Probability:\", probabilities[0,index[5]])"
      ],
      "execution_count": 32,
      "outputs": [
        {
          "output_type": "stream",
          "text": [
            "Most likely class: dog -- Probability: 0.5060759\n",
            "Second most likely class: airplane -- Probability: 0.19368757\n",
            "Third most likely class: cat -- Probability: 0.13490568\n",
            "Fourth most likely class: bird -- Probability: 0.116917536\n",
            "Fifth most likely class: horse -- Probability: 0.033697974\n"
          ],
          "name": "stdout"
        }
      ]
    },
    {
      "cell_type": "code",
      "metadata": {
        "id": "0O5wNhbWkqFW",
        "colab_type": "code",
        "colab": {}
      },
      "source": [
        "#To save this model \n",
        "model.save('my_model.h5')"
      ],
      "execution_count": 0,
      "outputs": []
    },
    {
      "cell_type": "code",
      "metadata": {
        "id": "jDlsS6i6kzwj",
        "colab_type": "code",
        "colab": {}
      },
      "source": [
        "#To load this model\n",
        "from keras.models import load_model\n",
        "model = load_model('my_model.h5')"
      ],
      "execution_count": 0,
      "outputs": []
    }
  ]
}